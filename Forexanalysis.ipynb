{
  "nbformat": 4,
  "nbformat_minor": 0,
  "metadata": {
    "colab": {
      "provenance": [],
      "mount_file_id": "1M31ny7au7lJVupYjE7x767_B5El9oDoz",
      "authorship_tag": "ABX9TyMshtAavvogQBFs7MJKSit3",
      "include_colab_link": true
    },
    "kernelspec": {
      "name": "python3",
      "display_name": "Python 3"
    },
    "language_info": {
      "name": "python"
    }
  },
  "cells": [
    {
      "cell_type": "markdown",
      "metadata": {
        "id": "view-in-github",
        "colab_type": "text"
      },
      "source": [
        "<a href=\"https://colab.research.google.com/github/benard3360-star/hello-world/blob/main/Forexanalysis.ipynb\" target=\"_parent\"><img src=\"https://colab.research.google.com/assets/colab-badge.svg\" alt=\"Open In Colab\"/></a>"
      ]
    },
    {
      "cell_type": "code",
      "execution_count": 2,
      "metadata": {
        "id": "TxvZJVUfum2Z"
      },
      "outputs": [],
      "source": [
        "import pandas as pd\n",
        "import numpy as np\n",
        "import matplotlib.pyplot as plt"
      ]
    },
    {
      "cell_type": "code",
      "source": [
        "df = pd.read_csv(\"/content/daily_forex_rates.csv\")\n",
        "df.head(5)"
      ],
      "metadata": {
        "colab": {
          "base_uri": "https://localhost:8080/",
          "height": 206
        },
        "id": "6xPXUaQKvYZy",
        "outputId": "1487b820-bf80-4c05-b12b-ff31ea56a125"
      },
      "execution_count": 4,
      "outputs": [
        {
          "output_type": "execute_result",
          "data": {
            "text/plain": [
              "  currency base_currency      currency_name  exchange_rate       date\n",
              "0      ZWL           EUR  Zimbabwean Dollar     344.660902  6/23/2024\n",
              "1      GHS           EUR      Ghanaian Cedi      16.182406  6/23/2024\n",
              "2      HRK           EUR      Croatian Kuna       7.512373  6/23/2024\n",
              "3      HNL           EUR   Honduran Lempira      26.420662  6/23/2024\n",
              "4      HKD           EUR   Hong Kong Dollar       8.354452  6/23/2024"
            ],
            "text/html": [
              "\n",
              "  <div id=\"df-2673cd67-93ab-460b-9c5a-f3caee967276\" class=\"colab-df-container\">\n",
              "    <div>\n",
              "<style scoped>\n",
              "    .dataframe tbody tr th:only-of-type {\n",
              "        vertical-align: middle;\n",
              "    }\n",
              "\n",
              "    .dataframe tbody tr th {\n",
              "        vertical-align: top;\n",
              "    }\n",
              "\n",
              "    .dataframe thead th {\n",
              "        text-align: right;\n",
              "    }\n",
              "</style>\n",
              "<table border=\"1\" class=\"dataframe\">\n",
              "  <thead>\n",
              "    <tr style=\"text-align: right;\">\n",
              "      <th></th>\n",
              "      <th>currency</th>\n",
              "      <th>base_currency</th>\n",
              "      <th>currency_name</th>\n",
              "      <th>exchange_rate</th>\n",
              "      <th>date</th>\n",
              "    </tr>\n",
              "  </thead>\n",
              "  <tbody>\n",
              "    <tr>\n",
              "      <th>0</th>\n",
              "      <td>ZWL</td>\n",
              "      <td>EUR</td>\n",
              "      <td>Zimbabwean Dollar</td>\n",
              "      <td>344.660902</td>\n",
              "      <td>6/23/2024</td>\n",
              "    </tr>\n",
              "    <tr>\n",
              "      <th>1</th>\n",
              "      <td>GHS</td>\n",
              "      <td>EUR</td>\n",
              "      <td>Ghanaian Cedi</td>\n",
              "      <td>16.182406</td>\n",
              "      <td>6/23/2024</td>\n",
              "    </tr>\n",
              "    <tr>\n",
              "      <th>2</th>\n",
              "      <td>HRK</td>\n",
              "      <td>EUR</td>\n",
              "      <td>Croatian Kuna</td>\n",
              "      <td>7.512373</td>\n",
              "      <td>6/23/2024</td>\n",
              "    </tr>\n",
              "    <tr>\n",
              "      <th>3</th>\n",
              "      <td>HNL</td>\n",
              "      <td>EUR</td>\n",
              "      <td>Honduran Lempira</td>\n",
              "      <td>26.420662</td>\n",
              "      <td>6/23/2024</td>\n",
              "    </tr>\n",
              "    <tr>\n",
              "      <th>4</th>\n",
              "      <td>HKD</td>\n",
              "      <td>EUR</td>\n",
              "      <td>Hong Kong Dollar</td>\n",
              "      <td>8.354452</td>\n",
              "      <td>6/23/2024</td>\n",
              "    </tr>\n",
              "  </tbody>\n",
              "</table>\n",
              "</div>\n",
              "    <div class=\"colab-df-buttons\">\n",
              "\n",
              "  <div class=\"colab-df-container\">\n",
              "    <button class=\"colab-df-convert\" onclick=\"convertToInteractive('df-2673cd67-93ab-460b-9c5a-f3caee967276')\"\n",
              "            title=\"Convert this dataframe to an interactive table.\"\n",
              "            style=\"display:none;\">\n",
              "\n",
              "  <svg xmlns=\"http://www.w3.org/2000/svg\" height=\"24px\" viewBox=\"0 -960 960 960\">\n",
              "    <path d=\"M120-120v-720h720v720H120Zm60-500h600v-160H180v160Zm220 220h160v-160H400v160Zm0 220h160v-160H400v160ZM180-400h160v-160H180v160Zm440 0h160v-160H620v160ZM180-180h160v-160H180v160Zm440 0h160v-160H620v160Z\"/>\n",
              "  </svg>\n",
              "    </button>\n",
              "\n",
              "  <style>\n",
              "    .colab-df-container {\n",
              "      display:flex;\n",
              "      gap: 12px;\n",
              "    }\n",
              "\n",
              "    .colab-df-convert {\n",
              "      background-color: #E8F0FE;\n",
              "      border: none;\n",
              "      border-radius: 50%;\n",
              "      cursor: pointer;\n",
              "      display: none;\n",
              "      fill: #1967D2;\n",
              "      height: 32px;\n",
              "      padding: 0 0 0 0;\n",
              "      width: 32px;\n",
              "    }\n",
              "\n",
              "    .colab-df-convert:hover {\n",
              "      background-color: #E2EBFA;\n",
              "      box-shadow: 0px 1px 2px rgba(60, 64, 67, 0.3), 0px 1px 3px 1px rgba(60, 64, 67, 0.15);\n",
              "      fill: #174EA6;\n",
              "    }\n",
              "\n",
              "    .colab-df-buttons div {\n",
              "      margin-bottom: 4px;\n",
              "    }\n",
              "\n",
              "    [theme=dark] .colab-df-convert {\n",
              "      background-color: #3B4455;\n",
              "      fill: #D2E3FC;\n",
              "    }\n",
              "\n",
              "    [theme=dark] .colab-df-convert:hover {\n",
              "      background-color: #434B5C;\n",
              "      box-shadow: 0px 1px 3px 1px rgba(0, 0, 0, 0.15);\n",
              "      filter: drop-shadow(0px 1px 2px rgba(0, 0, 0, 0.3));\n",
              "      fill: #FFFFFF;\n",
              "    }\n",
              "  </style>\n",
              "\n",
              "    <script>\n",
              "      const buttonEl =\n",
              "        document.querySelector('#df-2673cd67-93ab-460b-9c5a-f3caee967276 button.colab-df-convert');\n",
              "      buttonEl.style.display =\n",
              "        google.colab.kernel.accessAllowed ? 'block' : 'none';\n",
              "\n",
              "      async function convertToInteractive(key) {\n",
              "        const element = document.querySelector('#df-2673cd67-93ab-460b-9c5a-f3caee967276');\n",
              "        const dataTable =\n",
              "          await google.colab.kernel.invokeFunction('convertToInteractive',\n",
              "                                                    [key], {});\n",
              "        if (!dataTable) return;\n",
              "\n",
              "        const docLinkHtml = 'Like what you see? Visit the ' +\n",
              "          '<a target=\"_blank\" href=https://colab.research.google.com/notebooks/data_table.ipynb>data table notebook</a>'\n",
              "          + ' to learn more about interactive tables.';\n",
              "        element.innerHTML = '';\n",
              "        dataTable['output_type'] = 'display_data';\n",
              "        await google.colab.output.renderOutput(dataTable, element);\n",
              "        const docLink = document.createElement('div');\n",
              "        docLink.innerHTML = docLinkHtml;\n",
              "        element.appendChild(docLink);\n",
              "      }\n",
              "    </script>\n",
              "  </div>\n",
              "\n",
              "\n",
              "<div id=\"df-1307af28-93e0-45a0-b628-4e26326f56ea\">\n",
              "  <button class=\"colab-df-quickchart\" onclick=\"quickchart('df-1307af28-93e0-45a0-b628-4e26326f56ea')\"\n",
              "            title=\"Suggest charts\"\n",
              "            style=\"display:none;\">\n",
              "\n",
              "<svg xmlns=\"http://www.w3.org/2000/svg\" height=\"24px\"viewBox=\"0 0 24 24\"\n",
              "     width=\"24px\">\n",
              "    <g>\n",
              "        <path d=\"M19 3H5c-1.1 0-2 .9-2 2v14c0 1.1.9 2 2 2h14c1.1 0 2-.9 2-2V5c0-1.1-.9-2-2-2zM9 17H7v-7h2v7zm4 0h-2V7h2v10zm4 0h-2v-4h2v4z\"/>\n",
              "    </g>\n",
              "</svg>\n",
              "  </button>\n",
              "\n",
              "<style>\n",
              "  .colab-df-quickchart {\n",
              "      --bg-color: #E8F0FE;\n",
              "      --fill-color: #1967D2;\n",
              "      --hover-bg-color: #E2EBFA;\n",
              "      --hover-fill-color: #174EA6;\n",
              "      --disabled-fill-color: #AAA;\n",
              "      --disabled-bg-color: #DDD;\n",
              "  }\n",
              "\n",
              "  [theme=dark] .colab-df-quickchart {\n",
              "      --bg-color: #3B4455;\n",
              "      --fill-color: #D2E3FC;\n",
              "      --hover-bg-color: #434B5C;\n",
              "      --hover-fill-color: #FFFFFF;\n",
              "      --disabled-bg-color: #3B4455;\n",
              "      --disabled-fill-color: #666;\n",
              "  }\n",
              "\n",
              "  .colab-df-quickchart {\n",
              "    background-color: var(--bg-color);\n",
              "    border: none;\n",
              "    border-radius: 50%;\n",
              "    cursor: pointer;\n",
              "    display: none;\n",
              "    fill: var(--fill-color);\n",
              "    height: 32px;\n",
              "    padding: 0;\n",
              "    width: 32px;\n",
              "  }\n",
              "\n",
              "  .colab-df-quickchart:hover {\n",
              "    background-color: var(--hover-bg-color);\n",
              "    box-shadow: 0 1px 2px rgba(60, 64, 67, 0.3), 0 1px 3px 1px rgba(60, 64, 67, 0.15);\n",
              "    fill: var(--button-hover-fill-color);\n",
              "  }\n",
              "\n",
              "  .colab-df-quickchart-complete:disabled,\n",
              "  .colab-df-quickchart-complete:disabled:hover {\n",
              "    background-color: var(--disabled-bg-color);\n",
              "    fill: var(--disabled-fill-color);\n",
              "    box-shadow: none;\n",
              "  }\n",
              "\n",
              "  .colab-df-spinner {\n",
              "    border: 2px solid var(--fill-color);\n",
              "    border-color: transparent;\n",
              "    border-bottom-color: var(--fill-color);\n",
              "    animation:\n",
              "      spin 1s steps(1) infinite;\n",
              "  }\n",
              "\n",
              "  @keyframes spin {\n",
              "    0% {\n",
              "      border-color: transparent;\n",
              "      border-bottom-color: var(--fill-color);\n",
              "      border-left-color: var(--fill-color);\n",
              "    }\n",
              "    20% {\n",
              "      border-color: transparent;\n",
              "      border-left-color: var(--fill-color);\n",
              "      border-top-color: var(--fill-color);\n",
              "    }\n",
              "    30% {\n",
              "      border-color: transparent;\n",
              "      border-left-color: var(--fill-color);\n",
              "      border-top-color: var(--fill-color);\n",
              "      border-right-color: var(--fill-color);\n",
              "    }\n",
              "    40% {\n",
              "      border-color: transparent;\n",
              "      border-right-color: var(--fill-color);\n",
              "      border-top-color: var(--fill-color);\n",
              "    }\n",
              "    60% {\n",
              "      border-color: transparent;\n",
              "      border-right-color: var(--fill-color);\n",
              "    }\n",
              "    80% {\n",
              "      border-color: transparent;\n",
              "      border-right-color: var(--fill-color);\n",
              "      border-bottom-color: var(--fill-color);\n",
              "    }\n",
              "    90% {\n",
              "      border-color: transparent;\n",
              "      border-bottom-color: var(--fill-color);\n",
              "    }\n",
              "  }\n",
              "</style>\n",
              "\n",
              "  <script>\n",
              "    async function quickchart(key) {\n",
              "      const quickchartButtonEl =\n",
              "        document.querySelector('#' + key + ' button');\n",
              "      quickchartButtonEl.disabled = true;  // To prevent multiple clicks.\n",
              "      quickchartButtonEl.classList.add('colab-df-spinner');\n",
              "      try {\n",
              "        const charts = await google.colab.kernel.invokeFunction(\n",
              "            'suggestCharts', [key], {});\n",
              "      } catch (error) {\n",
              "        console.error('Error during call to suggestCharts:', error);\n",
              "      }\n",
              "      quickchartButtonEl.classList.remove('colab-df-spinner');\n",
              "      quickchartButtonEl.classList.add('colab-df-quickchart-complete');\n",
              "    }\n",
              "    (() => {\n",
              "      let quickchartButtonEl =\n",
              "        document.querySelector('#df-1307af28-93e0-45a0-b628-4e26326f56ea button');\n",
              "      quickchartButtonEl.style.display =\n",
              "        google.colab.kernel.accessAllowed ? 'block' : 'none';\n",
              "    })();\n",
              "  </script>\n",
              "</div>\n",
              "\n",
              "    </div>\n",
              "  </div>\n"
            ],
            "application/vnd.google.colaboratory.intrinsic+json": {
              "type": "dataframe",
              "variable_name": "df"
            }
          },
          "metadata": {},
          "execution_count": 4
        }
      ]
    },
    {
      "cell_type": "code",
      "source": [
        "df.info()"
      ],
      "metadata": {
        "colab": {
          "base_uri": "https://localhost:8080/"
        },
        "id": "8jjU9hlFv1Nj",
        "outputId": "f154ebab-7881-4ad2-da24-b6e494a82b1a"
      },
      "execution_count": 5,
      "outputs": [
        {
          "output_type": "stream",
          "name": "stdout",
          "text": [
            "<class 'pandas.core.frame.DataFrame'>\n",
            "RangeIndex: 362211 entries, 0 to 362210\n",
            "Data columns (total 5 columns):\n",
            " #   Column         Non-Null Count   Dtype  \n",
            "---  ------         --------------   -----  \n",
            " 0   currency       362211 non-null  object \n",
            " 1   base_currency  362211 non-null  object \n",
            " 2   currency_name  361929 non-null  object \n",
            " 3   exchange_rate  362211 non-null  float64\n",
            " 4   date           362211 non-null  object \n",
            "dtypes: float64(1), object(4)\n",
            "memory usage: 13.8+ MB\n"
          ]
        }
      ]
    },
    {
      "cell_type": "code",
      "source": [
        "# Convert date to datetime\n",
        "df['date'] = pd.to_datetime(df['date'])"
      ],
      "metadata": {
        "id": "ASe3IgSMwDhT"
      },
      "execution_count": 14,
      "outputs": []
    },
    {
      "cell_type": "code",
      "source": [
        "# Sort the dataframe by date and currency\n",
        "df = df.sort_values(['date', 'currency'])"
      ],
      "metadata": {
        "id": "bBQg_xROwdQK"
      },
      "execution_count": 7,
      "outputs": []
    },
    {
      "cell_type": "code",
      "source": [
        "# Handle missing values in currency_name\n",
        "df['currency_name'] = df['currency_name'].fillna('Unknown')"
      ],
      "metadata": {
        "id": "vuf0U_U6woQo"
      },
      "execution_count": 8,
      "outputs": []
    },
    {
      "cell_type": "code",
      "source": [
        "duplicates = df.duplicated().sum()\n",
        "print(f'Number of duplicate entries: {duplicates}')"
      ],
      "metadata": {
        "colab": {
          "base_uri": "https://localhost:8080/"
        },
        "id": "Vd80tMFSwu5d",
        "outputId": "00cb3ca7-34f4-4838-ba14-3d0659bb3b12"
      },
      "execution_count": 9,
      "outputs": [
        {
          "output_type": "stream",
          "name": "stdout",
          "text": [
            "Number of duplicate entries: 0\n"
          ]
        }
      ]
    },
    {
      "cell_type": "code",
      "source": [
        "# Check for invalid exchange rates\n",
        "invalid_rates = df[df['exchange_rate'] <= 0].shape[0]\n",
        "print(f'Number of invalid exchange rates (<=0): {invalid_rates}')"
      ],
      "metadata": {
        "colab": {
          "base_uri": "https://localhost:8080/"
        },
        "id": "tgew8QDHw2kr",
        "outputId": "6f1dd0c7-7650-4c78-847b-d0f999f7540e"
      },
      "execution_count": 10,
      "outputs": [
        {
          "output_type": "stream",
          "name": "stdout",
          "text": [
            "Number of invalid exchange rates (<=0): 0\n"
          ]
        }
      ]
    },
    {
      "cell_type": "code",
      "source": [
        "print(df['exchange_rate'].describe())"
      ],
      "metadata": {
        "colab": {
          "base_uri": "https://localhost:8080/"
        },
        "id": "CHX81bYRxD_W",
        "outputId": "fcb0b420-1410-4846-ec61-0d3d542e6999"
      },
      "execution_count": 11,
      "outputs": [
        {
          "output_type": "stream",
          "name": "stdout",
          "text": [
            "count    3.622110e+05\n",
            "mean     5.936058e+03\n",
            "std      1.294711e+05\n",
            "min      1.500000e-05\n",
            "25%      2.521640e+00\n",
            "50%      1.703100e+01\n",
            "75%      1.484800e+02\n",
            "max      4.881841e+06\n",
            "Name: exchange_rate, dtype: float64\n"
          ]
        }
      ]
    },
    {
      "cell_type": "code",
      "source": [
        "print(df.head())"
      ],
      "metadata": {
        "colab": {
          "base_uri": "https://localhost:8080/"
        },
        "id": "tOrsyL6mxVsz",
        "outputId": "74156299-4410-4070-ce0c-c1fc159d23a0"
      },
      "execution_count": 12,
      "outputs": [
        {
          "output_type": "stream",
          "name": "stdout",
          "text": [
            "       currency base_currency      currency_name  exchange_rate       date\n",
            "362210      AUD           EUR  Australian Dollar         1.7237 2004-08-30\n",
            "362209      AUD           EUR  Australian Dollar         1.7296 2004-08-31\n",
            "362207      CAD           EUR    Canadian Dollar         1.5967 2004-08-31\n",
            "362208      JPY           EUR       Japanese Yen       132.8500 2004-08-31\n",
            "362205      AUD           EUR  Australian Dollar         1.7315 2004-09-01\n"
          ]
        }
      ]
    },
    {
      "cell_type": "code",
      "source": [
        "# Check data types after cleaning\n",
        "df.dtypes"
      ],
      "metadata": {
        "colab": {
          "base_uri": "https://localhost:8080/"
        },
        "id": "kiZItXAvyMN6",
        "outputId": "4969f3b7-298a-4dd6-8169-52e042e17b0f"
      },
      "execution_count": 13,
      "outputs": [
        {
          "output_type": "execute_result",
          "data": {
            "text/plain": [
              "currency                 object\n",
              "base_currency            object\n",
              "currency_name            object\n",
              "exchange_rate           float64\n",
              "date             datetime64[ns]\n",
              "dtype: object"
            ]
          },
          "metadata": {},
          "execution_count": 13
        }
      ]
    },
    {
      "cell_type": "code",
      "source": [
        "# Group by currency and calculate sum and count\n",
        "currency_breakdown = df.groupby('currency').agg({\n",
        "    'exchange_rate': ['sum', 'count', 'mean']\n",
        "}).reset_index()"
      ],
      "metadata": {
        "id": "xnRSOWvzygvm"
      },
      "execution_count": 17,
      "outputs": []
    },
    {
      "cell_type": "code",
      "source": [
        "# Rename columns for clarity\n",
        "currency_breakdown.columns = ['currency', 'base_currency', 'currency_name', 'exchange_rate']"
      ],
      "metadata": {
        "id": "7k_y_YN57FB4"
      },
      "execution_count": 20,
      "outputs": []
    },
    {
      "cell_type": "code",
      "source": [
        "# Sort by Total Amount in descending order\n",
        "currency_breakdown = currency_breakdown.sort_values('exchange_rate', ascending=False)"
      ],
      "metadata": {
        "id": "dZPbJ-nX7in4"
      },
      "execution_count": 21,
      "outputs": []
    },
    {
      "cell_type": "code",
      "source": [
        "# Calculate percentage of exchange_rate\n",
        "exchange_rate = currency_breakdown['exchange_rate'].sum()\n",
        "currency_breakdown['Percentage'] = (currency_breakdown['exchange_rate'] / exchange_rate) * 100\n",
        "\n"
      ],
      "metadata": {
        "id": "wMp9Rbgd8nOu"
      },
      "execution_count": 24,
      "outputs": []
    },
    {
      "cell_type": "code",
      "source": [
        "# Format the columns\n",
        "currency_breakdown['Percentage'] = currency_breakdown['Percentage'].apply(lambda x: f'{x:.2f}%')\n"
      ],
      "metadata": {
        "id": "H2oWAvUu-GtY"
      },
      "execution_count": 28,
      "outputs": []
    },
    {
      "cell_type": "code",
      "source": [
        "# Display the breakdown\n",
        "print(currency_breakdown.to_string(index=False))"
      ],
      "metadata": {
        "colab": {
          "base_uri": "https://localhost:8080/"
        },
        "id": "MRpJ8Wo3_z6V",
        "outputId": "181b492a-c9fa-457d-affc-0aad41e9b1ef"
      },
      "execution_count": 29,
      "outputs": [
        {
          "output_type": "stream",
          "name": "stdout",
          "text": [
            "currency  base_currency  currency_name exchange_rate Percentage\n",
            "     VEF   9.406721e+08           1213   $775,492.25     51.30%\n",
            "     VES   7.463741e+08           1577   $473,287.34     31.31%\n",
            "     IRR   1.103490e+08           2566    $43,004.28      2.84%\n",
            "     VND   6.632240e+07           2563    $25,876.86      1.71%\n",
            "     LAK   5.408743e+06            238    $22,725.81      1.50%\n",
            "     STD   5.334678e+06            238    $22,414.61      1.48%\n",
            "     BYR   1.297695e+07            657    $19,751.82      1.31%\n",
            "     IDR   4.098744e+07           2566    $15,973.28      1.06%\n",
            "     SLL   3.011157e+07           2547    $11,822.37      0.78%\n",
            "     SYP   2.537753e+06            238    $10,662.83      0.71%\n",
            "     GNF   2.537865e+07           2559     $9,917.41      0.66%\n",
            "     ZMK   2.319925e+06            238     $9,747.59      0.64%\n",
            "     UZS   2.161672e+07           2330     $9,277.56      0.61%\n",
            "     LBP   2.062809e+07           2577     $8,004.69      0.53%\n",
            "     PYG   1.823517e+07           2574     $7,084.37      0.47%\n",
            "     KHR   1.166909e+07           2566     $4,547.58      0.30%\n",
            "     MGA   8.136322e+06           1984     $4,100.97      0.27%\n",
            "     UGX   1.041411e+07           2577     $4,041.18      0.27%\n",
            "     COP   9.975360e+06           2578     $3,869.42      0.26%\n",
            "     MNT   7.766218e+06           2566     $3,026.59      0.20%\n",
            "     TZS   6.564273e+06           2566     $2,558.17      0.17%\n",
            "     BIF   5.602846e+06           2564     $2,185.20      0.14%\n",
            "     CDF   4.918512e+06           2577     $1,908.62      0.13%\n",
            "     MMK   4.497253e+06           2578     $1,744.47      0.12%\n",
            "     IQD   3.375114e+05            238     $1,418.12      0.09%\n",
            "     KRW   3.429348e+06           2578     $1,330.24      0.09%\n",
            "     NGN   3.097415e+05            238     $1,301.43      0.09%\n",
            "     RWF   2.684762e+06           2561     $1,048.33      0.07%\n",
            "     KPW   2.319590e+05            238       $974.62      0.06%\n",
            "     MWK   2.424225e+06           2575       $941.45      0.06%\n",
            "     AOA   2.153946e+05            238       $905.02      0.06%\n",
            "     CLP   2.135339e+06           2562       $833.47      0.06%\n",
            "     SOS   1.472176e+06           2212       $665.54      0.04%\n",
            "     XAF   1.679908e+06           2561       $655.96      0.04%\n",
            "     XOF   1.560889e+05            238       $655.84      0.04%\n",
            "     CRC   1.652760e+06           2566       $644.10      0.04%\n",
            "     KMF   1.259164e+06           2563       $491.29      0.03%\n",
            "     AMD   1.026407e+05            238       $431.26      0.03%\n",
            "     KZT   1.086227e+06           2566       $423.32      0.03%\n",
            "     MRO   1.427884e+04             37       $385.91      0.03%\n",
            "     ZWL   1.684052e+05            472       $356.79      0.02%\n",
            "     HUF   8.799171e+05           2567       $342.78      0.02%\n",
            "     YER   7.041849e+05           2566       $274.43      0.02%\n",
            "     GYD   5.995762e+05           2566       $233.66      0.02%\n",
            "     LKR   5.661462e+05           2452       $230.89      0.02%\n",
            "     SDG   5.796932e+05           2562       $226.27      0.01%\n",
            "     DJF   5.117409e+05           2566       $199.43      0.01%\n",
            "     PKR   4.666451e+05           2565       $181.93      0.01%\n",
            "     JMD   4.005458e+04            238       $168.30      0.01%\n",
            "     LRD   4.201067e+05           2553       $164.55      0.01%\n",
            "     KES   3.715061e+04            238       $156.10      0.01%\n",
            "     ARS   3.761553e+05           2566       $146.59      0.01%\n",
            "     ISK   3.578874e+05           2538       $141.01      0.01%\n",
            "     DZD   3.533336e+05           2566       $137.70      0.01%\n",
            "     JPY   6.962491e+05           5236       $132.97      0.01%\n",
            "     NPR   3.038923e+05           2338       $129.98      0.01%\n",
            "     VUV   3.220444e+05           2566       $125.50      0.01%\n",
            "     ALL   2.637306e+05           2168       $121.65      0.01%\n",
            "     XPF   2.843134e+04            238       $119.46      0.01%\n",
            "     RSD   3.015910e+05           2544       $118.55      0.01%\n",
            "     CVE   2.629193e+04            238       $110.47      0.01%\n",
            "     HTG   2.515065e+05           2535        $99.21      0.01%\n",
            "     BDT   2.523563e+05           2565        $98.38      0.01%\n",
            "     KGS   1.905406e+05           2256        $84.46      0.01%\n",
            "     AFN   2.155467e+05           2566        $84.00      0.01%\n",
            "     BTN   1.893079e+05           2336        $81.04      0.01%\n",
            "     INR   2.087940e+05           2578        $80.99      0.01%\n",
            "     RUB   2.008868e+05           2568        $78.23      0.01%\n",
            "     MZN   1.752731e+05           2562        $68.41      0.00%\n",
            "     DOP   1.501851e+04            238        $63.10      0.00%\n",
            "     MKD   1.584949e+05           2578        $61.48      0.00%\n",
            "     PHP   1.469270e+05           2566        $57.26      0.00%\n",
            "     GMD   1.321536e+05           2322        $56.91      0.00%\n",
            "     MUR   1.126097e+05           2578        $43.68      0.00%\n",
            "     MRU   8.638792e+03            201        $42.98      0.00%\n",
            "     UYU   1.022865e+05           2578        $39.68      0.00%\n",
            "     ETB   8.465821e+04           2158        $39.23      0.00%\n",
            "     THB   9.622209e+04           2567        $37.48      0.00%\n",
            "     NIO   8.450262e+04           2322        $36.39      0.00%\n",
            "     TWD   8.782846e+04           2567        $34.21      0.00%\n",
            "     UAH   8.178071e+04           2561        $31.93      0.00%\n",
            "     CUP   6.829942e+03            238        $28.70      0.00%\n",
            "     ZMW   6.499464e+03            238        $27.31      0.00%\n",
            "     HNL   6.842378e+04           2566        $26.67      0.00%\n",
            "     CZK   7.378091e+04           2844        $25.94      0.00%\n",
            "     SLE   1.258975e+04            563        $22.36      0.00%\n",
            "     MXN   5.916359e+04           2842        $20.82      0.00%\n",
            "     EGP   5.254161e+04           2549        $20.61      0.00%\n",
            "     MDL   5.205758e+04           2578        $20.19      0.00%\n",
            "     MVR   4.447807e+04           2561        $17.37      0.00%\n",
            "     ERN   4.401061e+04           2578        $17.07      0.00%\n",
            "     SZL   4.338705e+04           2555        $16.98      0.00%\n",
            "     ZAR   4.357414e+04           2568        $16.97      0.00%\n",
            "     NAD   4.368316e+04           2577        $16.95      0.00%\n",
            "     LSL   3.751253e+04           2215        $16.94      0.00%\n",
            "     SRD   4.175751e+04           2552        $16.36      0.00%\n",
            "     SCR   4.177677e+04           2572        $16.24      0.00%\n",
            "     BWP   3.080886e+04           2426        $12.70      0.00%\n",
            "     TRY   2.855816e+04           2568        $11.12      0.00%\n",
            "     MAD   2.780064e+04           2567        $10.83      0.00%\n",
            "     TJS   2.587328e+04           2419        $10.70      0.00%\n",
            "     SEK   2.655200e+04           2578        $10.30      0.00%\n",
            "     NOK   2.807886e+04           2844         $9.87      0.00%\n",
            "     HKD   4.540142e+04           4740         $9.58      0.00%\n",
            "     SVC   1.237487e+03            131         $9.45      0.00%\n",
            "     SBD   1.931627e+04           2134         $9.05      0.00%\n",
            "     MOP   1.977018e+04           2190         $9.03      0.00%\n",
            "     GTQ   2.211228e+04           2578         $8.58      0.00%\n",
            "     CNY   3.327136e+04           4166         $7.99      0.00%\n",
            "     CNH   6.328354e+02             81         $7.81      0.00%\n",
            "     BOB   1.956781e+04           2562         $7.64      0.00%\n",
            "     HRK   1.671441e+04           2224         $7.52      0.00%\n",
            "     TTD   1.926893e+04           2565         $7.51      0.00%\n",
            "     DKK   1.913078e+04           2568         $7.45      0.00%\n",
            "     GHS   1.844524e+04           2557         $7.21      0.00%\n",
            "     BRL   1.294708e+03            238         $5.44      0.00%\n",
            "     RON   1.183946e+03            238         $4.97      0.00%\n",
            "     MYR   1.219981e+04           2576         $4.74      0.00%\n",
            "     PLN   1.131036e+04           2577         $4.39      0.00%\n",
            "     SAR   1.079888e+04           2568         $4.21      0.00%\n",
            "     QAR   1.051319e+04           2573         $4.09      0.00%\n",
            "     ILS   1.036771e+04           2578         $4.02      0.00%\n",
            "     AED   9.466009e+02            238         $3.98      0.00%\n",
            "     TMT   8.772672e+03           2239         $3.92      0.00%\n",
            "     PEN   1.003232e+04           2562         $3.92      0.00%\n",
            "     PGK   9.224777e+03           2463         $3.75      0.00%\n",
            "     LTL   8.956498e+02            277         $3.23      0.00%\n",
            "     GEL   7.074516e+03           2333         $3.03      0.00%\n",
            "     XCD   7.741290e+03           2558         $3.03      0.00%\n",
            "     TND   7.706562e+03           2578         $2.99      0.00%\n",
            "     WST   7.100294e+02            238         $2.98      0.00%\n",
            "     LYD   7.463345e+03           2553         $2.92      0.00%\n",
            "     BYN   5.787998e+03           2137         $2.71      0.00%\n",
            "     TOP   6.598475e+03           2566         $2.57      0.00%\n",
            "     FJD   4.476419e+03           1873         $2.39      0.00%\n",
            "     BZD   5.775307e+03           2562         $2.25      0.00%\n",
            "     BBD   6.392307e+03           2840         $2.25      0.00%\n",
            "     AWG   5.151407e+03           2559         $2.01      0.00%\n",
            "     ANG   5.131802e+03           2565         $2.00      0.00%\n",
            "     BGN   5.033756e+03           2574         $1.96      0.00%\n",
            "     BAM   4.878602e+03           2498         $1.95      0.00%\n",
            "     AZN   4.069386e+03           2257         $1.80      0.00%\n",
            "     NZD   7.190342e+03           4175         $1.72      0.00%\n",
            "     AUD   8.122093e+03           5238         $1.55      0.00%\n",
            "     SGD   3.939951e+03           2578         $1.53      0.00%\n",
            "     BND   3.919448e+03           2567         $1.53      0.00%\n",
            "     CAD   7.623890e+03           5236         $1.46      0.00%\n",
            "     CHF   6.520826e+03           5234         $1.25      0.00%\n",
            "     USD   6.429695e+03           5218         $1.23      0.00%\n",
            "     BSD   2.879451e+03           2566         $1.12      0.00%\n",
            "     BMD   2.875284e+03           2567         $1.12      0.00%\n",
            "     PAB   2.864044e+03           2557         $1.12      0.00%\n",
            "     CUC   1.124022e+03           1016         $1.11      0.00%\n",
            "     EUR   2.380000e+02            238         $1.00      0.00%\n",
            "     KYD   2.352190e+03           2558         $0.92      0.00%\n",
            "     SHP   2.288633e+03           2567         $0.89      0.00%\n",
            "     IMP   2.047004e+02            238         $0.86      0.00%\n",
            "     GIP   2.046969e+02            238         $0.86      0.00%\n",
            "     JEP   2.046969e+02            238         $0.86      0.00%\n",
            "     GGP   2.046960e+02            238         $0.86      0.00%\n",
            "     FKP   2.177614e+03           2567         $0.85      0.00%\n",
            "     GBP   4.289114e+03           5234         $0.82      0.00%\n",
            "     XDR   1.945159e+03           2398         $0.81      0.00%\n",
            "     JOD   2.046757e+03           2578         $0.79      0.00%\n",
            "     LVL   1.559006e+02            238         $0.66      0.00%\n",
            "     OMR   1.106869e+03           2566         $0.43      0.00%\n",
            "     BHD   9.711880e+01            238         $0.41      0.00%\n",
            "     KWD   8.735844e+02           2561         $0.34      0.00%\n",
            "     XAG   1.025963e+01            238         $0.04      0.00%\n",
            "     CLF   7.336141e+01           2547         $0.03      0.00%\n",
            "     XAU   1.203690e-01            238         $0.00      0.00%\n",
            "     BTC   5.045100e-03            238         $0.00      0.00%\n"
          ]
        }
      ]
    },
    {
      "cell_type": "code",
      "source": [
        "# Calculate average transaction amounts for KES and USD\n",
        "ves_avg = df[df['currency'] == 'KES']['exchange_rate'].mean()\n",
        "vef_avg = df[df['currency'] == 'USD']['exchange_rate'].mean()\n",
        "\n",
        "# Create a DataFrame to display the results\n",
        "avg_amounts = pd.DataFrame({\n",
        "    'currency': ['VES', 'VEF'],\n",
        "    'Average Transaction Amount': [ves_avg, vef_avg]\n",
        "})\n",
        "\n",
        "# Format the average amounts\n",
        "avg_amounts['Average Transaction Amount'] = avg_amounts['Average Transaction Amount'].apply(lambda x: f'{x:,.2f}')\n",
        "\n",
        "print(avg_amounts.to_string(index=False))\n",
        "\n",
        "# Calculate total number of transactions for KES and USD\n",
        "kes_count = df[df['currency'] == 'VES'].shape[0]\n",
        "usd_count = df[df['currency'] == 'VEF'].shape[0]\n",
        "\n",
        "print(f'Total number of transactions:')\n",
        "print(f'VES: {kes_count}')\n",
        "print(f'VEF: {usd_count}')"
      ],
      "metadata": {
        "colab": {
          "base_uri": "https://localhost:8080/"
        },
        "id": "FfcM-f9nEZfM",
        "outputId": "8c5648a7-e3f6-4239-f408-857f235caf8e"
      },
      "execution_count": 41,
      "outputs": [
        {
          "output_type": "stream",
          "name": "stdout",
          "text": [
            "currency Average Transaction Amount\n",
            "     VES                     156.10\n",
            "     VEF                       1.23\n",
            "Total number of transactions:\n",
            "VES: 1577\n",
            "VEF: 1213\n"
          ]
        }
      ]
    },
    {
      "cell_type": "code",
      "source": [],
      "metadata": {
        "id": "jMkTyOq6Gtzu"
      },
      "execution_count": null,
      "outputs": []
    }
  ]
}