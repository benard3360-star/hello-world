{
  "nbformat": 4,
  "nbformat_minor": 0,
  "metadata": {
    "colab": {
      "provenance": [],
      "authorship_tag": "ABX9TyPHT/UqdBc1R5mFurubfd9S",
      "include_colab_link": true
    },
    "kernelspec": {
      "name": "python3",
      "display_name": "Python 3"
    },
    "language_info": {
      "name": "python"
    }
  },
  "cells": [
    {
      "cell_type": "markdown",
      "metadata": {
        "id": "view-in-github",
        "colab_type": "text"
      },
      "source": [
        "<a href=\"https://colab.research.google.com/github/benard3360-star/hello-world/blob/main/test1.ipynb\" target=\"_parent\"><img src=\"https://colab.research.google.com/assets/colab-badge.svg\" alt=\"Open In Colab\"/></a>"
      ]
    },
    {
      "cell_type": "code",
      "execution_count": null,
      "metadata": {
        "id": "dTLcH-5X0IwX"
      },
      "outputs": [],
      "source": [
        "chelsea = [(\"Kepa\", \"Arizabalaga\", 26\n",
        "            \"Cesar\", \"Azpiliqueta\", 34\n",
        "            \"John\", \"Terry\", 37\n",
        "            \"Ngolo\", \"Kante\", 28\n",
        "            \"Marcos\", \"Alonso\", 32\n",
        "            \"Reece\" \"James\", 23\n",
        "            \"Victor\", \" Moses\")]\n",
        "for firtname,lastname, age in clelsea:\n",
        "  print()"
      ]
    }
  ]
}